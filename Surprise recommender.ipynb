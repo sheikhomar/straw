{
 "cells": [
  {
   "cell_type": "markdown",
   "metadata": {},
   "source": [
    "# Recommender for Amazon Books with Surprise recommender library\n",
    "<p>In the following, we perform all available analysis methods as provided by the scikit extension <a href=http://surprise.readthedocs.io/en/stable/index.html>Surprise</a>.</p> "
   ]
  },
  {
   "cell_type": "markdown",
   "metadata": {},
   "source": [
    "## Initialisation\n"
   ]
  },
  {
   "cell_type": "markdown",
   "metadata": {},
   "source": [
    "<p>We first download and initialise surprise from http://surpriselib.com/</p>"
   ]
  },
  {
   "cell_type": "code",
   "execution_count": 1,
   "metadata": {},
   "outputs": [
    {
     "name": "stdout",
     "output_type": "stream",
     "text": [
      "Requirement already satisfied: scikit-surprise in /home/bs/anaconda3/lib/python3.6/site-packages\r\n",
      "Requirement already satisfied: numpy>=1.11.2 in /home/bs/anaconda3/lib/python3.6/site-packages (from scikit-surprise)\r\n",
      "Requirement already satisfied: six>=1.10.0 in /home/bs/anaconda3/lib/python3.6/site-packages (from scikit-surprise)\r\n"
     ]
    }
   ],
   "source": [
    "!pip install scikit-surprise"
   ]
  },
  {
   "cell_type": "markdown",
   "metadata": {},
   "source": [
    "<p>Then we import all the libraries we use</p>"
   ]
  },
  {
   "cell_type": "code",
   "execution_count": 2,
   "metadata": {},
   "outputs": [],
   "source": [
    "from collections import defaultdict\n",
    "from surprise import Reader\n",
    "from surprise import Dataset\n",
    "from surprise import evaluate, print_perf\n",
    "\n",
    "from surprise import SVD\n",
    "from surprise import SlopeOne\n",
    "from surprise import CoClustering"
   ]
  },
  {
   "cell_type": "markdown",
   "metadata": {},
   "source": [
    "<p>Lastly, we read and split our data</p>"
   ]
  },
  {
   "cell_type": "code",
   "execution_count": 3,
   "metadata": {
    "collapsed": true
   },
   "outputs": [],
   "source": [
    "# path to dataset file\n",
    "file_path = 'data.csv'\n",
    "\n",
    "# As we're loading a custom dataset, we need to define a reader. In \n",
    "# our data, each line has the following format:\n",
    "# 'user item rating timestamp', separated by '\\t' characters.\n",
    "reader = Reader(line_format='user item rating timestamp', sep=',')\n",
    "data = Dataset.load_from_file(file_path, reader=reader)\n",
    "\n",
    "# Split data into four folds\n",
    "data.split(n_folds=4)"
   ]
  },
  {
   "cell_type": "markdown",
   "metadata": {},
   "source": [
    "### Matrix Factorisation (SVD)\n",
    "<p>This approach we have already looked at in another notebook. We run Surprise's <a href=http://surprise.readthedocs.io/en/stable/matrix_factorization.html#surprise.prediction_algorithms.matrix_factorization.SVD>implementation</a>, as this allows us to compare the approach (in general) to the other approaches in Surprise.</p>"
   ]
  },
  {
   "cell_type": "code",
   "execution_count": 4,
   "metadata": {},
   "outputs": [
    {
     "name": "stdout",
     "output_type": "stream",
     "text": [
      "Evaluating RMSE, MAE of algorithm SVD.\n",
      "\n",
      "------------\n",
      "Fold 1\n",
      "RMSE: 1.0439\n",
      "MAE:  0.7364\n",
      "------------\n",
      "Fold 2\n",
      "RMSE: 1.0473\n",
      "MAE:  0.7381\n",
      "------------\n",
      "Fold 3\n",
      "RMSE: 1.0483\n",
      "MAE:  0.7393\n",
      "------------\n",
      "Fold 4\n",
      "RMSE: 1.0431\n",
      "MAE:  0.7367\n",
      "------------\n",
      "------------\n",
      "Mean RMSE: 1.0456\n",
      "Mean MAE : 0.7376\n",
      "------------\n",
      "------------\n",
      "        Fold 1  Fold 2  Fold 3  Fold 4  Mean    \n",
      "RMSE    1.0439  1.0473  1.0483  1.0431  1.0456  \n",
      "MAE     0.7364  0.7381  0.7393  0.7367  0.7376  \n"
     ]
    }
   ],
   "source": [
    "# We'll define the algorithm.\n",
    "algo = SVD()\n",
    "\n",
    "# Evaluate performances of our algorithm on the dataset.\n",
    "perf = evaluate(algo, data, measures=['RMSE', 'MAE']) #Root Mean Squared Error & Mean Absolute Error.\n",
    "\n",
    "print_perf(perf)"
   ]
  },
  {
   "cell_type": "markdown",
   "metadata": {},
   "source": [
    "### Slope One\n",
    "<p>Slope One is a collaborative filtering algorithm. It bases the recommendation on the user and item similarity (<a href=https://arxiv.org/abs/cs/0702144>Source</a>).</p>"
   ]
  },
  {
   "cell_type": "code",
   "execution_count": 5,
   "metadata": {},
   "outputs": [
    {
     "name": "stdout",
     "output_type": "stream",
     "text": [
      "Evaluating RMSE, MAE of algorithm SlopeOne.\n",
      "\n",
      "------------\n",
      "Fold 1\n",
      "RMSE: 1.1963\n",
      "MAE:  0.8606\n",
      "------------\n",
      "Fold 2\n",
      "RMSE: 1.2013\n",
      "MAE:  0.8634\n",
      "------------\n",
      "Fold 3\n",
      "RMSE: 1.1997\n",
      "MAE:  0.8634\n",
      "------------\n",
      "Fold 4\n",
      "RMSE: 1.1958\n",
      "MAE:  0.8608\n",
      "------------\n",
      "------------\n",
      "Mean RMSE: 1.1983\n",
      "Mean MAE : 0.8621\n",
      "------------\n",
      "------------\n",
      "        Fold 1  Fold 2  Fold 3  Fold 4  Mean    \n",
      "RMSE    1.1963  1.2013  1.1997  1.1958  1.1983  \n",
      "MAE     0.8606  0.8634  0.8634  0.8608  0.8621  \n"
     ]
    }
   ],
   "source": [
    "# We'll define the algorithm.\n",
    "algo = SlopeOne()\n",
    "\n",
    "# Evaluate performances of our algorithm on the dataset.\n",
    "perf = evaluate(algo, data, measures=['RMSE', 'MAE']) #Root Mean Squared Error & Mean Absolute Error.\n",
    "\n",
    "print_perf(perf)"
   ]
  },
  {
   "cell_type": "markdown",
   "metadata": {},
   "source": [
    "## Co-Clustering\n",
    "<p>Lastly, we will look at <a href=http://surprise.readthedocs.io/en/stable/co_clustering.html?highlight=co%20clustering>Co-Clustering</a>. Here the recommendation is based on the co-clusters between user and item clusters.</p>"
   ]
  },
  {
   "cell_type": "code",
   "execution_count": 6,
   "metadata": {},
   "outputs": [
    {
     "name": "stdout",
     "output_type": "stream",
     "text": [
      "Evaluating RMSE, MAE of algorithm CoClustering.\n",
      "\n",
      "------------\n",
      "Fold 1\n",
      "RMSE: 1.1834\n",
      "MAE:  0.8585\n",
      "------------\n",
      "Fold 2\n",
      "RMSE: 1.1774\n",
      "MAE:  0.8461\n",
      "------------\n",
      "Fold 3\n",
      "RMSE: 1.1866\n",
      "MAE:  0.8577\n",
      "------------\n",
      "Fold 4\n",
      "RMSE: 1.1822\n",
      "MAE:  0.8544\n",
      "------------\n",
      "------------\n",
      "Mean RMSE: 1.1824\n",
      "Mean MAE : 0.8542\n",
      "------------\n",
      "------------\n",
      "        Fold 1  Fold 2  Fold 3  Fold 4  Mean    \n",
      "RMSE    1.1834  1.1774  1.1866  1.1822  1.1824  \n",
      "MAE     0.8585  0.8461  0.8577  0.8544  0.8542  \n"
     ]
    }
   ],
   "source": [
    "# We'll define the algorithm.\n",
    "algo = CoClustering()\n",
    "\n",
    "# Evaluate performances of our algorithm on the dataset.\n",
    "perf = evaluate(algo, data, measures=['RMSE', 'MAE']) #Root Mean Squared Error & Mean Absolute Error.\n",
    "\n",
    "print_perf(perf)"
   ]
  },
  {
   "cell_type": "markdown",
   "metadata": {},
   "source": [
    "## Comparison of the Surprise recommenders\n",
    "<p>Based on the mean RMSE, the Matrix Factorisation approach seems to work the best on our data. In the following we perform a few recommendations from this approach. This can be expanded to find the recommendations with the highest value for each user.</p>"
   ]
  },
  {
   "cell_type": "code",
   "execution_count": 7,
   "metadata": {},
   "outputs": [
    {
     "name": "stdout",
     "output_type": "stream",
     "text": [
      "user: A3NIQK6ZLYEP1L item: B000IK882Y r_ui = 4.00   est = 5.00   {'was_impossible': False}\n"
     ]
    }
   ],
   "source": [
    "#Prediction\n",
    "uid = str('A3NIQK6ZLYEP1L')  # raw user id (as in the ratings file).\n",
    "iid = str('B000IK882Y')  # raw item id (as in the ratings file).\n",
    "\n",
    "#Get the prediction\n",
    "pred = algo.predict(uid, iid, r_ui=4, verbose=True)"
   ]
  },
  {
   "cell_type": "code",
   "execution_count": 8,
   "metadata": {},
   "outputs": [
    {
     "name": "stdout",
     "output_type": "stream",
     "text": [
      "user: A3NIQK6ZLYEP1L item: B000I0FXM2 r_ui = 4.00   est = 4.84   {'was_impossible': False}\n"
     ]
    }
   ],
   "source": [
    "#Prediction\n",
    "uid = str('A3NIQK6ZLYEP1L')  # raw user id (as in the ratings file).\n",
    "iid = str('B000I0FXM2')  # raw item id (as in the ratings file).\n",
    "\n",
    "#Get the prediction\n",
    "pred = algo.predict(uid, iid, r_ui=4, verbose=True)"
   ]
  },
  {
   "cell_type": "code",
   "execution_count": 9,
   "metadata": {},
   "outputs": [
    {
     "name": "stdout",
     "output_type": "stream",
     "text": [
      "user: A3NIQK6ZLYEP1L item: B000IXNFHY r_ui = 4.00   est = 4.97   {'was_impossible': False}\n"
     ]
    }
   ],
   "source": [
    "#Prediction\n",
    "uid = str('A3NIQK6ZLYEP1L')  # raw user id (as in the ratings file).\n",
    "iid = str('B000IXNFHY')  # raw item id (as in the ratings file).\n",
    "\n",
    "#Get the prediction\n",
    "pred = algo.predict(uid, iid, r_ui=4, verbose=True)"
   ]
  }
 ],
 "metadata": {
  "kernelspec": {
   "display_name": "Python 3",
   "language": "python",
   "name": "python3"
  },
  "language_info": {
   "codemirror_mode": {
    "name": "ipython",
    "version": 3
   },
   "file_extension": ".py",
   "mimetype": "text/x-python",
   "name": "python",
   "nbconvert_exporter": "python",
   "pygments_lexer": "ipython3",
   "version": "3.6.1"
  }
 },
 "nbformat": 4,
 "nbformat_minor": 2
}
